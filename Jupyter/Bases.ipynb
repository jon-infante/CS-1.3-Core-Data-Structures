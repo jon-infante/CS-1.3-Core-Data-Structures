{
 "cells": [
  {
   "cell_type": "code",
   "execution_count": 2,
   "metadata": {},
   "outputs": [],
   "source": [
    "import string\n",
    "\n",
    "def encode(number, base):\n",
    "    \"\"\"Encode given number in base 10 to digits in given base.\n",
    "    number: int -- integer representation of number (in base 10)\n",
    "    base: int -- base to convert to\n",
    "    return: str -- string representation of number (in given base)\"\"\"\n",
    "    # Handle up to base 36 [0-9a-z]\n",
    "    assert 2 <= base <= 36, 'base is out of range: {}'.format(base)\n",
    "    # Handle unsigned numbers only for now\n",
    "    assert number >= 0, 'number is negative: {}'.format(number)\n",
    "    # TODO: Encode number in binary (base 2)\n",
    "    # ...\n",
    "    encoded = ''\n",
    "    strings = string.digits + string.ascii_uppercase\n",
    "    n = 0\n",
    "    if number == 0: #Edge case\n",
    "        return '0'\n",
    "    \n",
    "    while (base**n) <= number:\n",
    "        n += 1  \n",
    "        \n",
    "    while n > 0:\n",
    "        if (base**(n-1)) <= number:\n",
    "            encoded += strings[1]\n",
    "            number -= base**(n-1)\n",
    "        else:\n",
    "            encoded += strings[0]\n",
    "        n -= 1\n",
    "        \n",
    "    return encoded\n",
    "    # TODO: Encode number in hexadecimal (base 16)\n",
    "    # ...\n",
    "    # TODO: Encode number in any base (2 up to 36)\n",
    "    # ...\n",
    "   \n",
    "\n"
   ]
  },
  {
   "cell_type": "code",
   "execution_count": 3,
   "metadata": {},
   "outputs": [
    {
     "name": "stdout",
     "output_type": "stream",
     "text": [
      "10000\n"
     ]
    }
   ],
   "source": [
    "print(encode(16, 2))"
   ]
  },
  {
   "cell_type": "code",
   "execution_count": 5,
   "metadata": {},
   "outputs": [],
   "source": [
    "import string\n",
    "def decode(digits, base):\n",
    "    \"\"\"Decode given digits in given base to number in base 10.\n",
    "    digits: str -- string representation of number (in given base)\n",
    "    base: int -- base of given number\n",
    "    return: int -- integer representation of number (in base 10)\"\"\"\n",
    "    # Handle up to base 36 [0-9a-z]\n",
    "    assert 2 <= base <= 36, 'base is out of range: {}'.format(base)\n",
    "    # TODO: Decode digits from binary (base 2)\n",
    "    # ...\n",
    "    decoded = 0\n",
    "    strings = string.digits + string.ascii_uppercase\n",
    "    digits = digits[::-1]\n",
    "    for i, num in enumerate(digits):\n",
    "        decoded += base**i * strings.index(num)    \n",
    "       \n",
    "    return decoded\n",
    "\n",
    "    # TODO: Decode digits from hexadecimal (base 16)\n",
    "    # ...\n",
    "    # TODO: Decode digits from any base (2 up to 36)\n",
    "    # ..."
   ]
  },
  {
   "cell_type": "code",
   "execution_count": 8,
   "metadata": {},
   "outputs": [
    {
     "name": "stdout",
     "output_type": "stream",
     "text": [
      "255\n"
     ]
    }
   ],
   "source": [
    "print(decode('FF', 16))"
   ]
  },
  {
   "cell_type": "code",
   "execution_count": 9,
   "metadata": {},
   "outputs": [],
   "source": [
    "import string\n",
    "def encode(number, base):\n",
    "    \"\"\"Encode given number in base 10 to digits in given base.\n",
    "    number: int -- integer representation of number (in base 10)\n",
    "    base: int -- base to convert to\n",
    "    return: str -- string representation of number (in given base)\"\"\"\n",
    "    # Handle up to base 36 [0-9a-z]\n",
    "    assert 2 <= base <= 36, 'base is out of range: {}'.format(base)\n",
    "    # Handle unsigned numbers only for now\n",
    "    assert number >= 0, 'number is negative: {}'.format(number)\n",
    "    # TODO: Encode number in binary (base 2)\n",
    "    # ...\n",
    "    encoded = ''\n",
    "    strings = string.digits + string.ascii_uppercase\n",
    "    n = 0\n",
    "    if number == 0: #Edge case\n",
    "        return '0'\n",
    "    \n",
    "    while (base**n) <= number:\n",
    "        n += 1  \n",
    "        \n",
    "    while n > 0:\n",
    "        div, remainder = divmod(number, (base**(n-1)))\n",
    "        convert = min(div, (base-1))\n",
    "        encoded += strings[convert]\n",
    "        number -= convert * base**(n-1)\n",
    "        n -= 1\n",
    "        \n",
    "    return encoded\n",
    "\n",
    "   "
   ]
  },
  {
   "cell_type": "code",
   "execution_count": 11,
   "metadata": {},
   "outputs": [
    {
     "name": "stdout",
     "output_type": "stream",
     "text": [
      "B\n"
     ]
    }
   ],
   "source": [
    "print(encode(11, 16))"
   ]
  },
  {
   "cell_type": "code",
   "execution_count": 27,
   "metadata": {},
   "outputs": [],
   "source": [
    "def convert(digits, base1, base2):\n",
    "    \"\"\"Convert given digits in base1 to digits in base2.\n",
    "    digits: str -- string representation of number (in base1)\n",
    "    base1: int -- base of given number\n",
    "    base2: int -- base to convert to\n",
    "    return: str -- string representation of number (in base2)\"\"\"\n",
    "    # Handle up to base 36 [0-9a-z]\n",
    "    assert 2 <= base1 <= 36, 'base1 is out of range: {}'.format(base1)\n",
    "    assert 2 <= base2 <= 36, 'base2 is out of range: {}'.format(base2)\n",
    "    return encode(decode(str(digits), base1), base2)"
   ]
  },
  {
   "cell_type": "code",
   "execution_count": 32,
   "metadata": {},
   "outputs": [
    {
     "name": "stdout",
     "output_type": "stream",
     "text": [
      "4\n"
     ]
    }
   ],
   "source": [
    "print(convert('100', 2, 10))"
   ]
  },
  {
   "cell_type": "code",
   "execution_count": null,
   "metadata": {},
   "outputs": [],
   "source": []
  }
 ],
 "metadata": {
  "kernelspec": {
   "display_name": "Python 3",
   "language": "python",
   "name": "python3"
  },
  "language_info": {
   "codemirror_mode": {
    "name": "ipython",
    "version": 3
   },
   "file_extension": ".py",
   "mimetype": "text/x-python",
   "name": "python",
   "nbconvert_exporter": "python",
   "pygments_lexer": "ipython3",
   "version": "3.7.4"
  }
 },
 "nbformat": 4,
 "nbformat_minor": 2
}
