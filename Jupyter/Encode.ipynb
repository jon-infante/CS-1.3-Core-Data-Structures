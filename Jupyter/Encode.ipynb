{
 "cells": [
  {
   "cell_type": "code",
   "execution_count": 1,
   "metadata": {},
   "outputs": [],
   "source": [
    "import string\n",
    "\n",
    "def encode(number, base):\n",
    "    \"\"\"Encode given number in base 10 to digits in given base.\n",
    "    number: int -- integer representation of number (in base 10)\n",
    "    base: int -- base to convert to\n",
    "    return: str -- string representation of number (in given base)\"\"\"\n",
    "    # Handle up to base 36 [0-9a-z]\n",
    "    assert 2 <= base <= 36, 'base is out of range: {}'.format(base)\n",
    "    # Handle unsigned numbers only for now\n",
    "    assert number >= 0, 'number is negative: {}'.format(number)\n",
    "    # TODO: Encode number in binary (base 2)\n",
    "    # ...\n",
    "    encoded = ''\n",
    "    strings = string.digits + string.ascii_uppercase\n",
    "    n = 0\n",
    "    \n",
    "    if number == 0: #Edge case\n",
    "        return '0'\n",
    "    \n",
    "    while (base**n) <= number:\n",
    "        n += 1\n",
    "        \n",
    "    while n > 0:\n",
    "        if (base**(n-1)) <= number:\n",
    "            encoded += strings[1]\n",
    "            number -= base**(n-1)\n",
    "        else:\n",
    "            encoded += strings[0]\n",
    "        n -= 1\n",
    "    return encoded\n",
    "    # TODO: Encode number in hexadecimal (base 16)\n",
    "    # ...\n",
    "    # TODO: Encode number in any base (2 up to 36)\n",
    "    # ...\n",
    "   \n",
    "\n"
   ]
  },
  {
   "cell_type": "code",
   "execution_count": 2,
   "metadata": {},
   "outputs": [
    {
     "name": "stdout",
     "output_type": "stream",
     "text": [
      "10000\n"
     ]
    }
   ],
   "source": [
    "print(encode(16, 2))"
   ]
  }
 ],
 "metadata": {
  "kernelspec": {
   "display_name": "Python 3",
   "language": "python",
   "name": "python3"
  },
  "language_info": {
   "codemirror_mode": {
    "name": "ipython",
    "version": 3
   },
   "file_extension": ".py",
   "mimetype": "text/x-python",
   "name": "python",
   "nbconvert_exporter": "python",
   "pygments_lexer": "ipython3",
   "version": "3.7.4"
  }
 },
 "nbformat": 4,
 "nbformat_minor": 2
}
